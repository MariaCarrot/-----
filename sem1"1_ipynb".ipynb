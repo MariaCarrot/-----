{
  "nbformat": 4,
  "nbformat_minor": 0,
  "metadata": {
    "colab": {
      "provenance": [],
      "include_colab_link": true
    },
    "kernelspec": {
      "name": "python3",
      "display_name": "Python 3"
    },
    "language_info": {
      "name": "python"
    }
  },
  "cells": [
    {
      "cell_type": "markdown",
      "metadata": {
        "id": "view-in-github",
        "colab_type": "text"
      },
      "source": [
        "<a href=\"https://colab.research.google.com/github/MariaCarrot/sem_2/blob/master/sem1%221_ipynb%22.ipynb\" target=\"_parent\"><img src=\"https://colab.research.google.com/assets/colab-badge.svg\" alt=\"Open In Colab\"/></a>"
      ]
    },
    {
      "cell_type": "markdown",
      "source": [
        "### Подключаем библиотеки, display и Math для визуализации формул, numpy - для построения графиков (понадобится позже)"
      ],
      "metadata": {
        "id": "5v6xWg9klfXT"
      }
    },
    {
      "cell_type": "code",
      "execution_count": 1,
      "metadata": {
        "id": "7DMrUe4aHILf"
      },
      "outputs": [],
      "source": [
        "from IPython.display import display, Math\n",
        "import numpy as np"
      ]
    },
    {
      "cell_type": "markdown",
      "source": [
        "### Определяем функцию для создания узла дерева для хранения целых чисел"
      ],
      "metadata": {
        "id": "4EwRgUF-l2rW"
      }
    },
    {
      "cell_type": "code",
      "source": [
        "def integer_(x: int) -> tuple:\n",
        "  return 'integer', {'value': x}\n",
        "\n",
        "a = integer_(-34)\n",
        "a"
      ],
      "metadata": {
        "id": "twPonpZ_HMBh",
        "outputId": "6eebed6a-b9ec-403a-8f1e-5c864aaa29cf",
        "colab": {
          "base_uri": "https://localhost:8080/"
        }
      },
      "execution_count": 2,
      "outputs": [
        {
          "output_type": "execute_result",
          "data": {
            "text/plain": [
              "('integer', {'value': -34})"
            ]
          },
          "metadata": {},
          "execution_count": 2
        }
      ]
    },
    {
      "cell_type": "markdown",
      "source": [
        "### Определите функции для доступа к компонентам узла дерева выражения:\n",
        "* ID(x) - возвращает идентификатор узла\n",
        "* items(x) - возвращает список дочерних узлов\n",
        "* options(x) - возвращает словарь с параметрами узла\n",
        "* isTerminal(x) - возвращает True, если узел --- лист, т.е. не содержит дочерних узлов\n",
        "\n",
        "*Замените ... в каждой функции на нужное выражение*"
      ],
      "metadata": {
        "id": "CoAe7Md6mK-D"
      }
    },
    {
      "cell_type": "code",
      "source": [
        "def ID(x: tuple) -> str:\n",
        "  return x[0]\n",
        "\n",
        "def items(x: tuple) -> list:\n",
        "  return x[1:-1]\n",
        "\n",
        "def options(x: tuple) -> dict:\n",
        "  return x[-1]\n",
        "\n",
        "def isTerminal(x: tuple) -> bool:\n",
        "  if (len(items(x)) > 0):\n",
        "    return False\n",
        "  else:\n",
        "    return True\n",
        "\n",
        "ID(a), items(a), options(a), isTerminal(a)"
      ],
      "metadata": {
        "id": "XCIOx0CrHQU3",
        "colab": {
          "base_uri": "https://localhost:8080/"
        },
        "outputId": "809eba62-5fb5-4ff2-c688-3824c97ab685"
      },
      "execution_count": 3,
      "outputs": [
        {
          "output_type": "execute_result",
          "data": {
            "text/plain": [
              "('integer', (), {'value': -34}, True)"
            ]
          },
          "metadata": {},
          "execution_count": 3
        }
      ]
    },
    {
      "cell_type": "markdown",
      "source": [
        "### Определяем функции для преобразования узла в LaTeX-выражение"
      ],
      "metadata": {
        "id": "DO-ARPPVnlA3"
      }
    },
    {
      "cell_type": "code",
      "source": [
        "def latex_(x: tuple) -> str:\n",
        "  cmd = eval(f\"latex_{ID(x)}\")\n",
        "  return cmd(x)\n",
        "\n",
        "def latex_integer(x: tuple) -> str:\n",
        "  return f\"{options(x)['value']}\"\n",
        "\n",
        "latex_(a)"
      ],
      "metadata": {
        "id": "ojW8MFE6gR6V",
        "outputId": "f9186b65-a9f7-4b3f-d5a7-1250bd7f4a10",
        "colab": {
          "base_uri": "https://localhost:8080/",
          "height": 36
        }
      },
      "execution_count": 4,
      "outputs": [
        {
          "output_type": "execute_result",
          "data": {
            "text/plain": [
              "'-34'"
            ],
            "application/vnd.google.colaboratory.intrinsic+json": {
              "type": "string"
            }
          },
          "metadata": {},
          "execution_count": 4
        }
      ]
    },
    {
      "cell_type": "markdown",
      "source": [
        "### Определяем функцию show_ для визуализации формулы, представленной деревом x"
      ],
      "metadata": {
        "id": "On4iSQh6nx2P"
      }
    },
    {
      "cell_type": "code",
      "source": [
        "def show_(x: tuple) -> None:\n",
        "  display(Math(latex_(x)))\n",
        "\n",
        "show_(integer_(-123))\n",
        "print(-123)"
      ],
      "metadata": {
        "id": "ClKfcPSIgvhN",
        "colab": {
          "base_uri": "https://localhost:8080/",
          "height": 56
        },
        "outputId": "2c0aec5c-125f-494a-cc1f-bcbe5c068f1a"
      },
      "execution_count": 5,
      "outputs": [
        {
          "output_type": "display_data",
          "data": {
            "text/plain": [
              "<IPython.core.display.Math object>"
            ],
            "text/latex": "$\\displaystyle -123$"
          },
          "metadata": {}
        },
        {
          "output_type": "stream",
          "name": "stdout",
          "text": [
            "-123\n"
          ]
        }
      ]
    },
    {
      "cell_type": "markdown",
      "source": [
        "### Символы\n",
        "* определяем функцию для генерации узла дерева: дополните список греческих букв, см. [ссылку](https://www.overleaf.com/learn/latex/List_of_Greek_letters_and_math_symbols)\n",
        "* определяем функцию преобразования символа в LaTeX-формат\n",
        "* тестируем обе функции"
      ],
      "metadata": {
        "id": "12pM-AO5qJGv"
      }
    },
    {
      "cell_type": "code",
      "source": [
        "def symbol_(x: str) -> tuple:\n",
        "  greek = ['alpha', 'beta', 'gamma', 'delta', 'epsilon', 'zeta', 'eta', 'theta', 'iota', 'kappa', 'lambda', 'mu']\n",
        "  n, s = x.split('_') if '_' in x else (x, '')\n",
        "  if n in greek:\n",
        "    n = f\"\\\\{n}\"\n",
        "  if s:\n",
        "    n = f\"{n}_{{{s}}}\"\n",
        "  return 'symbol', {'name': x, 'latex': n}\n",
        "\n",
        "def latex_symbol(x: tuple) -> str:\n",
        "  return options(x)['latex']\n",
        "\n",
        "x, alpha = symbol_('x_1'), symbol_('eta')\n",
        "show_(x)\n",
        "show_(alpha)"
      ],
      "metadata": {
        "id": "zvTRR44JHWGE",
        "colab": {
          "base_uri": "https://localhost:8080/",
          "height": 59
        },
        "outputId": "1f67a083-2234-475f-b772-3706c76c22c3"
      },
      "execution_count": 6,
      "outputs": [
        {
          "output_type": "display_data",
          "data": {
            "text/plain": [
              "<IPython.core.display.Math object>"
            ],
            "text/latex": "$\\displaystyle x_{1}$"
          },
          "metadata": {}
        },
        {
          "output_type": "display_data",
          "data": {
            "text/plain": [
              "<IPython.core.display.Math object>"
            ],
            "text/latex": "$\\displaystyle \\eta$"
          },
          "metadata": {}
        }
      ]
    },
    {
      "cell_type": "markdown",
      "source": [
        "### Определяем функции генерации узлов для бинарных и унарных операций\n",
        "* напишите по аналогии с функцией add_ функции для остальных бинарных операций: вычитания (sub), умножения (mul), деления (div), возведения в степень (deg); логических операций (and, or, xor); операций сравнения (eq, ne, lt, le, gt, ge)\n",
        "* напишите по аналогии с функцией neg_ функцию для логического отрицания (inv)"
      ],
      "metadata": {
        "id": "DUE9zeXxsdAS"
      }
    },
    {
      "cell_type": "code",
      "source": [
        "def add_(x: tuple, y: tuple) -> tuple:\n",
        "  return 'add', x, y, {}\n",
        "\n",
        "def sub_(x: tuple, y: tuple) -> tuple:\n",
        "  return 'sub', x, y, {}\n",
        "\n",
        "def mul_(x: tuple, y: tuple) -> tuple:\n",
        "  return 'mul', x, y, {}\n",
        "\n",
        "def div_(x: tuple, y: tuple) -> tuple:\n",
        "  return 'div', x, y, {}\n",
        "\n",
        "def deg_(x: tuple, y: tuple) -> tuple:\n",
        "  return 'deg', x, y, {}\n",
        "\n",
        "\n",
        "def and_(x: tuple, y: tuple) -> tuple:\n",
        "  return 'and', x, y, {}\n",
        "\n",
        "def or_(x: tuple, y: tuple) -> tuple:\n",
        "  return 'or', x, y, {}\n",
        "\n",
        "def neg_(x: tuple) -> tuple:\n",
        "  return 'neg', x, {}\n",
        "\n",
        "def xor_(x: tuple, y: tuple) -> tuple:\n",
        "  return 'xor', x, y, {}\n",
        "\n",
        "\n",
        "def eq_(x: tuple, y: tuple) -> tuple: # =\n",
        "  return 'eq', x, y, {}\n",
        "\n",
        "def ne_(x: tuple, y: tuple) -> tuple: # !=\n",
        "  return 'ne', x, y, {}\n",
        "\n",
        "def lt_(x: tuple, y: tuple) -> tuple: # <\n",
        "  return 'lt', x, y, {}\n",
        "\n",
        "def le_(x: tuple, y: tuple) -> tuple: # <=\n",
        "  return 'le', x, y, {}\n",
        "\n",
        "def gt_(x: tuple, y: tuple) -> tuple: # >\n",
        "  return 'gt', x, y, {}\n",
        "\n",
        "def ge_(x: tuple, y: tuple) -> tuple: # >=\n",
        "  return 'ge', x, y, {}\n",
        "\n",
        "def inv_(x: tuple) -> tuple: # !\n",
        "  return 'inv', x, {}"
      ],
      "metadata": {
        "id": "sudrBI3qHntH"
      },
      "execution_count": 7,
      "outputs": []
    },
    {
      "cell_type": "markdown",
      "source": [
        "### Тестируем операции\n",
        "* создаем целое число a=34 и символы $x$ и $y$\n",
        "* создаем дерево выражения f=(a+x)*y, используя вышенаписанные функции для бинарных операций\n",
        "* печатаем это выражение (print)"
      ],
      "metadata": {
        "id": "gYI3t2OVwaRx"
      }
    },
    {
      "cell_type": "code",
      "source": [
        "a = integer_(34)\n",
        "x = symbol_('x')\n",
        "y = symbol_('y')\n",
        "f = mul_(add_(a, x), y)\n",
        "print(f)"
      ],
      "metadata": {
        "id": "scWSG5ZKi0I9",
        "colab": {
          "base_uri": "https://localhost:8080/"
        },
        "outputId": "6c6fcc97-240c-4451-aa58-289235073e16"
      },
      "execution_count": 8,
      "outputs": [
        {
          "output_type": "stream",
          "name": "stdout",
          "text": [
            "('mul', ('add', ('integer', {'value': 34}), ('symbol', {'name': 'x', 'latex': 'x'}), {}), ('symbol', {'name': 'y', 'latex': 'y'}), {})\n"
          ]
        }
      ]
    },
    {
      "cell_type": "markdown",
      "source": [
        "### Создаем словарь с приоритетами всех операций\n",
        "* в соответствии с приоритетами этих же операций в языке Python: см. [ссылку](https://www.programiz.com/python-programming/precedence-associativity), приоритет логических операций and, or, xor определяется как для побитовых (bitwise) операций (&, |, ^)\n",
        "* конкретные значения приоритетов не важны, важны их относительные значения\n",
        "* создаем функцию для вычисления приоритета заданного узла\n",
        "* найдите приоритет выражения (a+x)*y из предыдущего пункта"
      ],
      "metadata": {
        "id": "nKFPXu9PxSnA"
      }
    },
    {
      "cell_type": "code",
      "source": [
        "priority = {'deg' : 9, 'neg' : 8, 'inv': 8, 'mul': 7, 'div' : 7, 'add' : 6, 'sub' : 6, 'and' : 5, 'xor': 4, 'or' : 3, 'eq':2, 'ne':2, 'lt':2, 'le':2, 'gt':2, 'ge':2}\n",
        "\n",
        "def Pr(x: tuple) -> int:\n",
        "  return priority.get(ID(x), 10)\n",
        "\n",
        "print(Pr(f))\n"
      ],
      "metadata": {
        "colab": {
          "base_uri": "https://localhost:8080/"
        },
        "id": "bqJJ-fvki8LS",
        "outputId": "b864cc1c-5f89-4ddb-d1a7-68a5abd1e5a8"
      },
      "execution_count": 9,
      "outputs": [
        {
          "output_type": "stream",
          "name": "stdout",
          "text": [
            "7\n"
          ]
        }
      ]
    },
    {
      "cell_type": "markdown",
      "source": [
        "### Определяем функцию \"оборачивания\" заданного LaTeX-выражения в круглые скобки \"адаптивного\" размера\n",
        "\n",
        "Сравните размер скобок: `(\\frac{x^2}{y^3})` $\\to (\\frac{x^2}{y^3})$ и `\\left(\\frac{x^2}{y^3}\\right)` $\\to \\left(\\frac{x^2}{y^3}\\right)$"
      ],
      "metadata": {
        "id": "BjYNDwXC1lBe"
      }
    },
    {
      "cell_type": "code",
      "source": [
        "def enclose(x: str) -> str:\n",
        "  return f\"\\\\left( {x} \\\\right)\""
      ],
      "metadata": {
        "id": "NuP8AUwKjX4j"
      },
      "execution_count": 10,
      "outputs": []
    },
    {
      "cell_type": "markdown",
      "source": [
        "### Определяем функции преобразования всех введенных бинарных и унарных операций в формат LaTeX\n",
        "* отдельным образом определяются операции возведения в степень $x^y$ и деления $\\frac{x}{y}$\n",
        "* для логических операций используем обозначения $\\neg x$, $x \\wedge y$, $x \\vee y$, $x \\oplus y$\n",
        "* чтобы посмотреть код этой вкладки, сделайте ЗДЕСЬ двойной клик"
      ],
      "metadata": {
        "id": "ys2WAMXh1xhL"
      }
    },
    {
      "cell_type": "code",
      "source": [
        "def latex_add(x: tuple) -> str:\n",
        "  a, b = latex_(x[1]), latex_(x[2])\n",
        "  if Pr(x[1]) < Pr(x):\n",
        "    a = enclose(a)\n",
        "  if Pr(x[2]) <= Pr(x):\n",
        "    b = enclose(b)\n",
        "  return f\"{a} + {b}\"\n",
        "\n",
        "def latex_sub(x: tuple) -> str:\n",
        "  a, b = latex_(x[1]), latex_(x[2])\n",
        "  if Pr(x[1]) < Pr(x):\n",
        "    a = enclose(a)\n",
        "  if Pr(x[2]) <= Pr(x):\n",
        "    b = enclose(b)\n",
        "  return f\"{a} - {b}\"\n",
        "\n",
        "def latex_mul(x: tuple) -> str:\n",
        "  op, a, b = ID(x), latex_(x[1]), latex_(x[2])\n",
        "  if Pr(x[1]) < Pr(x):\n",
        "    a = enclose(a)\n",
        "  if Pr(x[2]) <= Pr(x):\n",
        "    b = enclose(b)\n",
        "  return f\"{a} \\\\cdot {b}\"\n",
        "\n",
        "def latex_neg(x: tuple) -> str:\n",
        "  a = latex_(x[1])\n",
        "  return f\"\\\\neg {a}\"\n",
        "\n",
        "def latex_and(x: tuple) -> str:\n",
        "  a, b = latex_(x[1]), latex_(x[2])\n",
        "  if Pr(x[1]) < Pr(x):\n",
        "    a = enclose(a)\n",
        "  if Pr(x[2]) <= Pr(x):\n",
        "    b = enclose(b)\n",
        "  return f\"{a} \\\\wedge {b}\"\n",
        "\n",
        "def latex_or(x: tuple) -> str:\n",
        "  a, b = latex_(x[1]), latex_(x[2])\n",
        "  if Pr(x[1]) < Pr(x):\n",
        "    a = enclose(a)\n",
        "  if Pr(x[2]) <= Pr(x):\n",
        "    b = enclose(b)\n",
        "  return f\"{a} \\\\vee {b}\"\n",
        "\n",
        "def latex_xor(x: tuple) -> str:\n",
        "  a, b = latex_(x[1]), latex_(x[2])\n",
        "  if Pr(x[1]) < Pr(x):\n",
        "    a = enclose(a)\n",
        "  if Pr(x[2]) <= Pr(x):\n",
        "    b = enclose(b)\n",
        "  return f\"{a} \\\\oplus {b}\"\n",
        "\n",
        "def latex_div(x: tuple) -> str:\n",
        "  a, b = latex_(x[1]), latex_(x[2])\n",
        "  if Pr(x[1]) < Pr(x):\n",
        "    a = enclose(a)\n",
        "  if Pr(x[2]) <= Pr(x):\n",
        "    b = enclose(b)\n",
        "  return f\"\\\\frac{{{a}}}{{{b}}}\"\n",
        "\n",
        "def latex_deg(x: tuple) -> str:\n",
        "  a, b = latex_(x[1]), latex_(x[2])\n",
        "  if Pr(x[1]) < Pr(x):\n",
        "    a = enclose(a)\n",
        "  if Pr(x[2]) <= Pr(x):\n",
        "    b = enclose(b)\n",
        "  return f\"{a}^{b}\"\n",
        "\n",
        "def latex_inv(x: tuple) -> str:\n",
        "  a = latex_(x[1])\n",
        "  return f\"\\\\neg {a}\"\n",
        "\n",
        "def latex_eq(x: tuple) -> str:\n",
        "  a, b = latex_(x[1]), latex_(x[2])\n",
        "  if Pr(x[1]) < Pr(x):\n",
        "    a = enclose(a)\n",
        "  if Pr(x[2]) <= Pr(x):\n",
        "    b = enclose(b)\n",
        "  return f\"{a} = {b}\"\n",
        "\n",
        "def latex_ne(x: tuple) -> str:\n",
        "  a, b = latex_(x[1]), latex_(x[2])\n",
        "  if Pr(x[1]) < Pr(x):\n",
        "    a = enclose(a)\n",
        "  if Pr(x[2]) <= Pr(x):\n",
        "    b = enclose(b)\n",
        "  return f\"{a} \\\\ne {b}\"\n",
        "\n",
        "def latex_gt(x: tuple) -> str:\n",
        "  a, b = latex_(x[1]), latex_(x[2])\n",
        "  if Pr(x[1]) < Pr(x):\n",
        "    a = enclose(a)\n",
        "  if Pr(x[2]) <= Pr(x):\n",
        "    b = enclose(b)\n",
        "  return f\"{a} > {b}\"\n",
        "\n",
        "def latex_ge(x: tuple) -> str:\n",
        "  a, b = latex_(x[1]), latex_(x[2])\n",
        "  if Pr(x[1]) < Pr(x):\n",
        "    a = enclose(a)\n",
        "  if Pr(x[2]) <= Pr(x):\n",
        "    b = enclose(b)\n",
        "  return f\"{a} \\\\geq {b}\"\n",
        "\n",
        "def latex_lt(x: tuple) -> str:\n",
        "  a, b = latex_(x[1]), latex_(x[2])\n",
        "  if Pr(x[1]) < Pr(x):\n",
        "    a = enclose(a)\n",
        "  if Pr(x[2]) <= Pr(x):\n",
        "    b = enclose(b)\n",
        "  return f\"{a} < {b}\"\n",
        "\n",
        "def latex_le(x: tuple) -> str:\n",
        "  a, b = latex_(x[1]), latex_(x[2])\n",
        "  if Pr(x[1]) < Pr(x):\n",
        "    a = enclose(a)\n",
        "  if Pr(x[2]) <= Pr(x):\n",
        "    b = enclose(b)\n",
        "  return f\"{a} \\\\leq {b}\""
      ],
      "metadata": {
        "id": "2cWnKK9ljmCW"
      },
      "execution_count": 11,
      "outputs": []
    },
    {
      "cell_type": "markdown",
      "source": [
        "### Протестируйте определенные функции на различных выражениях\n",
        "* опциональное (бонусное) задание: проверьте как работают построенные функции на выражениях с унарным минусом и отрицательными числами, придумайте решение найденных проблем (если проблемы не найдены, то задание не засчитывается!)"
      ],
      "metadata": {
        "id": "Cu8IGszl32RF"
      }
    },
    {
      "cell_type": "code",
      "source": [
        "a = integer_(3)\n",
        "b = integer_(7)\n",
        "x = symbol_('x')\n",
        "y = symbol_('y')\n",
        "\n",
        "f = mul_(add_(a, x), y)\n",
        "g = div_(sub_(a, b), x)\n",
        "h = deg_(x, a)\n",
        "p = and_(x, (inv_(y)))\n",
        "show_(f)\n",
        "show_(g)\n",
        "show_(h)\n",
        "show_(p)"
      ],
      "metadata": {
        "id": "AhyPebnn3-Qu",
        "colab": {
          "base_uri": "https://localhost:8080/",
          "height": 116
        },
        "outputId": "7ac33523-7c3f-4b8e-e802-7ebcbb77656e"
      },
      "execution_count": 12,
      "outputs": [
        {
          "output_type": "display_data",
          "data": {
            "text/plain": [
              "<IPython.core.display.Math object>"
            ],
            "text/latex": "$\\displaystyle \\left( 3 + x \\right) \\cdot y$"
          },
          "metadata": {}
        },
        {
          "output_type": "display_data",
          "data": {
            "text/plain": [
              "<IPython.core.display.Math object>"
            ],
            "text/latex": "$\\displaystyle \\frac{\\left( 3 - 7 \\right)}{x}$"
          },
          "metadata": {}
        },
        {
          "output_type": "display_data",
          "data": {
            "text/plain": [
              "<IPython.core.display.Math object>"
            ],
            "text/latex": "$\\displaystyle x^3$"
          },
          "metadata": {}
        },
        {
          "output_type": "display_data",
          "data": {
            "text/plain": [
              "<IPython.core.display.Math object>"
            ],
            "text/latex": "$\\displaystyle x \\wedge \\neg y$"
          },
          "metadata": {}
        }
      ]
    },
    {
      "cell_type": "markdown",
      "source": [
        "### Определяем класс Expression - обертку для списочных выражений\n",
        "* включите в него перегрузку всех необходимых бинарных и унарных операций\n",
        "* определяем функцию fix для принудительного приведения заданного целого числа к объекту класса Expression\n",
        "* опциональное (бонусное) задание: включите перегрузку тех же бинарных операций с \"правым\" аргументом (radd, rmul и т.д.)\n"
      ],
      "metadata": {
        "id": "h96qLnvI3_wt"
      }
    },
    {
      "cell_type": "code",
      "source": [
        "class Expression:\n",
        "  def __init__(self, x):\n",
        "    self.T = x\n",
        "\n",
        "  def __add__(self, x):\n",
        "    return Expression(add_(self.T, fix(x).T))\n",
        "\n",
        "  def __sub__(self, x):\n",
        "    return Expression(sub_(self.T, fix(x).T))\n",
        "\n",
        "  def __mul__(self, x):\n",
        "    return Expression(mul_(self.T, x.T))\n",
        "\n",
        "  def __truediv__(self, x):\n",
        "    return Expression(div_(self.T, fix(x).T))\n",
        "\n",
        "  def __pow__(self, x):\n",
        "    return Expression(deg_(self.T, fix(x).T))\n",
        "\n",
        "  def __neg__(self):\n",
        "    return Expression(neg_(self.T))\n",
        "\n",
        "  def __inv__(self, x):\n",
        "    return Expression(inv_(self.T))\n",
        "\n",
        "  def __and__(self, x):\n",
        "    return Expression(and_(self.T, fix(x).T))\n",
        "\n",
        "  def __or__(self, x):\n",
        "    return Expression(or_(self.T, fix(x).T))\n",
        "\n",
        "  def __xor__(self, x):\n",
        "    return Expression(xor_(self.T, fix(x).T))\n",
        "\n",
        "  def __eq__(self, x):\n",
        "    return Expression(eq_(self.T, fix(x).T))\n",
        "\n",
        "  def __ne__(self, x):\n",
        "    return Expression(ne_(self.T, fix(x).T))\n",
        "\n",
        "  def __gt__(self, x):\n",
        "    return Expression(gt_(self.T, fix(x).T))\n",
        "\n",
        "  def __ge__(self, x):\n",
        "    return Expression(ge_(self.T, fix(x).T))\n",
        "\n",
        "  def __lt__(self, x):\n",
        "    return Expression(lt_(self.T, fix(x).T))\n",
        "\n",
        "  def __le__(self, x):\n",
        "    return Expression(le_(self.T, fix(x).T))\n",
        "\n",
        "def fix(x):\n",
        "  if isinstance(x, int):\n",
        "    return Expression(integer_(x))\n",
        "  return x\n"
      ],
      "metadata": {
        "id": "XHS90CijsBhk"
      },
      "execution_count": 13,
      "outputs": []
    },
    {
      "cell_type": "markdown",
      "source": [
        "### Создаем обертки для функций integer_  и symbol_\n",
        "* опциональное (бонусное) задание: напишите функцию symbols, которая позволяет создавать сразу несколько символьных переменных: `x, y, z = symbols('x y z')`"
      ],
      "metadata": {
        "id": "fjtKXvmC9Ahq"
      }
    },
    {
      "cell_type": "code",
      "source": [
        "def Z(x: int) -> Expression:\n",
        "  return Expression(integer_(x))\n",
        "\n",
        "def symbol(x: str) -> Expression:\n",
        "  return Expression(symbol_(x))\n",
        "\n",
        "def symbols(args:str) -> tuple:\n",
        "  smbls = args.split(' ')\n",
        "  return (symbol_(s) for s in smbls)\n",
        "\n",
        "x, y, z = symbols('x y z')\n",
        "f = add_(x, mul_(y, z))\n",
        "show_(f)"
      ],
      "metadata": {
        "id": "eUzYyRY2sfoH",
        "colab": {
          "base_uri": "https://localhost:8080/",
          "height": 38
        },
        "outputId": "4f52b0cc-251a-4f0c-cd4e-723e547882e7"
      },
      "execution_count": 14,
      "outputs": [
        {
          "output_type": "display_data",
          "data": {
            "text/plain": [
              "<IPython.core.display.Math object>"
            ],
            "text/latex": "$\\displaystyle x + y \\cdot z$"
          },
          "metadata": {}
        }
      ]
    },
    {
      "cell_type": "markdown",
      "source": [
        "### Определяем функцию show вывода выражений, заданных классом Expression\n",
        "* протестируйте работу всех функций на различных выражениях"
      ],
      "metadata": {
        "id": "8MkumMSn9VOD"
      }
    },
    {
      "cell_type": "code",
      "source": [
        "def show(x: Expression) -> None:\n",
        "  show_(x.T)\n",
        "\n",
        "a, x = Z(7), symbol('x_2')\n",
        "\n",
        "show(a + x)\n",
        "show(a - x)\n",
        "show(a * x)\n",
        "show(a ** x)\n",
        "show(a / x)\n",
        "show(a & x)\n",
        "show(a | x)\n",
        "show(- x)\n",
        "show(a < x)\n",
        "show(a <= x)\n",
        "show(a > x)\n",
        "show(a >= x)\n",
        "show(a == x)\n",
        "show(a != x)"
      ],
      "metadata": {
        "id": "VUJgZQSo9Unz",
        "colab": {
          "base_uri": "https://localhost:8080/",
          "height": 329
        },
        "outputId": "0872b568-d92b-4029-ecfb-65e21f2b82a0"
      },
      "execution_count": 15,
      "outputs": [
        {
          "output_type": "display_data",
          "data": {
            "text/plain": [
              "<IPython.core.display.Math object>"
            ],
            "text/latex": "$\\displaystyle 7 + x_{2}$"
          },
          "metadata": {}
        },
        {
          "output_type": "display_data",
          "data": {
            "text/plain": [
              "<IPython.core.display.Math object>"
            ],
            "text/latex": "$\\displaystyle 7 - x_{2}$"
          },
          "metadata": {}
        },
        {
          "output_type": "display_data",
          "data": {
            "text/plain": [
              "<IPython.core.display.Math object>"
            ],
            "text/latex": "$\\displaystyle 7 \\cdot x_{2}$"
          },
          "metadata": {}
        },
        {
          "output_type": "display_data",
          "data": {
            "text/plain": [
              "<IPython.core.display.Math object>"
            ],
            "text/latex": "$\\displaystyle 7^x_{2}$"
          },
          "metadata": {}
        },
        {
          "output_type": "display_data",
          "data": {
            "text/plain": [
              "<IPython.core.display.Math object>"
            ],
            "text/latex": "$\\displaystyle \\frac{7}{x_{2}}$"
          },
          "metadata": {}
        },
        {
          "output_type": "display_data",
          "data": {
            "text/plain": [
              "<IPython.core.display.Math object>"
            ],
            "text/latex": "$\\displaystyle 7 \\wedge x_{2}$"
          },
          "metadata": {}
        },
        {
          "output_type": "display_data",
          "data": {
            "text/plain": [
              "<IPython.core.display.Math object>"
            ],
            "text/latex": "$\\displaystyle 7 \\vee x_{2}$"
          },
          "metadata": {}
        },
        {
          "output_type": "display_data",
          "data": {
            "text/plain": [
              "<IPython.core.display.Math object>"
            ],
            "text/latex": "$\\displaystyle \\neg x_{2}$"
          },
          "metadata": {}
        },
        {
          "output_type": "display_data",
          "data": {
            "text/plain": [
              "<IPython.core.display.Math object>"
            ],
            "text/latex": "$\\displaystyle 7 < x_{2}$"
          },
          "metadata": {}
        },
        {
          "output_type": "display_data",
          "data": {
            "text/plain": [
              "<IPython.core.display.Math object>"
            ],
            "text/latex": "$\\displaystyle 7 \\leq x_{2}$"
          },
          "metadata": {}
        },
        {
          "output_type": "display_data",
          "data": {
            "text/plain": [
              "<IPython.core.display.Math object>"
            ],
            "text/latex": "$\\displaystyle 7 > x_{2}$"
          },
          "metadata": {}
        },
        {
          "output_type": "display_data",
          "data": {
            "text/plain": [
              "<IPython.core.display.Math object>"
            ],
            "text/latex": "$\\displaystyle 7 \\geq x_{2}$"
          },
          "metadata": {}
        },
        {
          "output_type": "display_data",
          "data": {
            "text/plain": [
              "<IPython.core.display.Math object>"
            ],
            "text/latex": "$\\displaystyle 7 = x_{2}$"
          },
          "metadata": {}
        },
        {
          "output_type": "display_data",
          "data": {
            "text/plain": [
              "<IPython.core.display.Math object>"
            ],
            "text/latex": "$\\displaystyle 7 \\ne x_{2}$"
          },
          "metadata": {}
        }
      ]
    },
    {
      "cell_type": "markdown",
      "source": [
        "### Визуализация дерева выражения\n",
        "Дополнительные задания:\n",
        "\n",
        "* в арифметических узлах должны быть показаны значки операций, а не слова (+ вместо add и т.д.)\n",
        "* терминальные узлы должны быть выделены отдельным цветом"
      ],
      "metadata": {
        "id": "UiUK2dPrJvgt"
      }
    },
    {
      "cell_type": "code",
      "source": [
        "import matplotlib\n",
        "import matplotlib.pyplot as plt\n",
        "import networkx as nx\n",
        "from networkx.drawing.nx_pydot import graphviz_layout\n",
        "from networkx.readwrite import json_graph\n",
        "\n",
        "def makeGraph(x: tuple, nodes: list, labels: list, links: list) -> int:\n",
        "  id_ = len(nodes)\n",
        "  nodes.append({'id': id_})\n",
        "  if isTerminal(x):\n",
        "    labels[id_] = f'${latex_(x)}$'\n",
        "  else:\n",
        "    labels[id_] = x[0]\n",
        "    for a in x[1:]:\n",
        "      if isinstance(a, tuple):\n",
        "        cid = makeGraph(a, nodes, labels, links)\n",
        "        links.append({'source': id_, 'target': cid})\n",
        "  return id_\n",
        "\n",
        "def drawGraph_(x: tuple, size) -> None:\n",
        "  nodes, labels, links = [], {}, []\n",
        "  makeGraph(x, nodes, labels, links)\n",
        "  graph = json_graph.node_link_graph({'nodes': nodes, 'links': links}, directed=True, multigraph=False)\n",
        "  pos = graphviz_layout(graph, prog=\"dot\")\n",
        "  fig, ax = plt.subplots(figsize=(3 * size, 3 * size))\n",
        "  ax.set_axis_off()\n",
        "  nx.draw_networkx_edges(graph.to_directed(), pos, ax = ax, edge_color=\"black\")\n",
        "\n",
        "  ge = graph.edges\n",
        "  no_levers = set([e[0] for e in ge])\n",
        "  levers = set(range(1, len(ge) + 1)) - no_levers\n",
        "  no_levers, levers = list(no_levers), list(levers)\n",
        "  no_levers = {el: fromTextToSymbol(labels[el]) for el in no_levers}\n",
        "  levers = {el: fromTextToSymbol(labels[el]) for el in levers}\n",
        "\n",
        "  nx.draw_networkx_labels(graph.to_directed(), pos, labels = no_levers, font_color='green')\n",
        "  nx.draw_networkx_labels(graph.to_directed(), pos, labels = levers, font_color='purple')\n",
        "\n",
        "def drawGraph(x: Expression, size: float = 1) -> None:\n",
        "  drawGraph_(x.T, size)\n",
        "\n",
        "def fromTextToSymbol(text: str):\n",
        "  TS = {\n",
        "      \"add\": '+', \"sub\": '-', \"mul\": '*', \"div\": '/', \"deg\": '**',\n",
        "      \"and\": '&', \"or\": '|', \"xor\": \"^\", \"eq\": '=', \"ne\": '≠',\n",
        "      \"lt\": '<', \"le\": '<=', \"gt\": '>', \"ge\": '>=', \"neg\": '-',\n",
        "      \"inv\": '~'\n",
        "  }\n",
        "  symbol = TS[text] if text in TS else text\n",
        "  return symbol\n",
        "\n",
        "x, y = symbol('x'), symbol('y')\n",
        "drawGraph((x + y) / Z(34))"
      ],
      "metadata": {
        "id": "Wik7kxSBl-yv",
        "colab": {
          "base_uri": "https://localhost:8080/",
          "height": 361
        },
        "outputId": "379537fc-2352-4fd9-ac2e-20b7b26d510c"
      },
      "execution_count": 16,
      "outputs": [
        {
          "output_type": "stream",
          "name": "stderr",
          "text": [
            "<ipython-input-16-fb7ad0a5896e>:24: DeprecationWarning: nx.nx_pydot.graphviz_layout depends on the pydot package, which hasknown issues and is not actively maintained. Consider usingnx.nx_agraph.graphviz_layout instead.\n",
            "\n",
            "See https://github.com/networkx/networkx/issues/5723\n",
            "  pos = graphviz_layout(graph, prog=\"dot\")\n"
          ]
        },
        {
          "output_type": "display_data",
          "data": {
            "text/plain": [
              "<Figure size 300x300 with 1 Axes>"
            ],
            "image/png": "[encoded data removed]"
          },
          "metadata": {}
        }
      ]
    }
  ]
}